{
 "cells": [
  {
   "cell_type": "code",
   "execution_count": 27,
   "metadata": {},
   "outputs": [],
   "source": [
    "from selenium import webdriver\n",
    "from selenium.webdriver.common.by import By\n",
    "from selenium.webdriver.support.ui import WebDriverWait\n",
    "from selenium.webdriver.support import expected_conditions as EC\n",
    "from selenium.webdriver.chrome.service import Service\n",
    "\n",
    "import time\n",
    "from datetime import datetime\n",
    "import winsound\n",
    "import sys"
   ]
  },
  {
   "cell_type": "code",
   "execution_count": 2,
   "metadata": {},
   "outputs": [],
   "source": [
    "chrome_options = webdriver.ChromeOptions()\n",
    "chrome_options.add_argument(\"--headless\")\n",
    "chrome_options.add_argument(\"--disable-popup-blocking\")"
   ]
  },
  {
   "cell_type": "code",
   "execution_count": 6,
   "metadata": {},
   "outputs": [
    {
     "name": "stdout",
     "output_type": "stream",
     "text": [
      "Current Time = 23:34:08\n",
      "Pending messages:  0\n",
      "Waiting 5mins ...\n",
      "Current Time = 23:34:28\n",
      "Pending messages:  0\n",
      "Waiting 5mins ...\n",
      "Current Time = 23:34:49\n"
     ]
    },
    {
     "ename": "KeyboardInterrupt",
     "evalue": "",
     "output_type": "error",
     "traceback": [
      "\u001b[1;31m---------------------------------------------------------------------------\u001b[0m",
      "\u001b[1;31mKeyboardInterrupt\u001b[0m                         Traceback (most recent call last)",
      "\u001b[1;32mc:\\Users\\C00386\\Desktop\\JC\\Personal\\part_time_automation\\part_time.ipynb Cell 3\u001b[0m line \u001b[0;36m7\n\u001b[0;32m      <a href='vscode-notebook-cell:/c%3A/Users/C00386/Desktop/JC/Personal/part_time_automation/part_time.ipynb#W2sZmlsZQ%3D%3D?line=3'>4</a>\u001b[0m \u001b[39mprint\u001b[39m(\u001b[39m\"\u001b[39m\u001b[39mCurrent Time =\u001b[39m\u001b[39m\"\u001b[39m, current_time)\n\u001b[0;32m      <a href='vscode-notebook-cell:/c%3A/Users/C00386/Desktop/JC/Personal/part_time_automation/part_time.ipynb#W2sZmlsZQ%3D%3D?line=5'>6</a>\u001b[0m service \u001b[39m=\u001b[39m Service(executable_path\u001b[39m=\u001b[39m\u001b[39m'\u001b[39m\u001b[39mmsedgedriver.exe\u001b[39m\u001b[39m'\u001b[39m)\n\u001b[1;32m----> <a href='vscode-notebook-cell:/c%3A/Users/C00386/Desktop/JC/Personal/part_time_automation/part_time.ipynb#W2sZmlsZQ%3D%3D?line=6'>7</a>\u001b[0m driver \u001b[39m=\u001b[39m webdriver\u001b[39m.\u001b[39;49mEdge(service\u001b[39m=\u001b[39;49mservice)\n\u001b[0;32m      <a href='vscode-notebook-cell:/c%3A/Users/C00386/Desktop/JC/Personal/part_time_automation/part_time.ipynb#W2sZmlsZQ%3D%3D?line=7'>8</a>\u001b[0m driver\u001b[39m.\u001b[39mget(\u001b[39m\"\u001b[39m\u001b[39mhttps://imh.99b1b438eb1b4006.pw/kefu/pc_list\u001b[39m\u001b[39m\"\u001b[39m)\n\u001b[0;32m     <a href='vscode-notebook-cell:/c%3A/Users/C00386/Desktop/JC/Personal/part_time_automation/part_time.ipynb#W2sZmlsZQ%3D%3D?line=9'>10</a>\u001b[0m \u001b[39m# Fill in the username and password fields\u001b[39;00m\n",
      "File \u001b[1;32mc:\\Users\\C00386\\Anaconda3\\envs\\automation_test\\Lib\\site-packages\\selenium\\webdriver\\edge\\webdriver.py:45\u001b[0m, in \u001b[0;36mWebDriver.__init__\u001b[1;34m(self, options, service, keep_alive)\u001b[0m\n\u001b[0;32m     42\u001b[0m service \u001b[39m=\u001b[39m service \u001b[39mif\u001b[39;00m service \u001b[39melse\u001b[39;00m Service()\n\u001b[0;32m     43\u001b[0m options \u001b[39m=\u001b[39m options \u001b[39mif\u001b[39;00m options \u001b[39melse\u001b[39;00m Options()\n\u001b[1;32m---> 45\u001b[0m \u001b[39msuper\u001b[39;49m()\u001b[39m.\u001b[39;49m\u001b[39m__init__\u001b[39;49m(\n\u001b[0;32m     46\u001b[0m     browser_name\u001b[39m=\u001b[39;49mDesiredCapabilities\u001b[39m.\u001b[39;49mEDGE[\u001b[39m\"\u001b[39;49m\u001b[39mbrowserName\u001b[39;49m\u001b[39m\"\u001b[39;49m],\n\u001b[0;32m     47\u001b[0m     vendor_prefix\u001b[39m=\u001b[39;49m\u001b[39m\"\u001b[39;49m\u001b[39mms\u001b[39;49m\u001b[39m\"\u001b[39;49m,\n\u001b[0;32m     48\u001b[0m     options\u001b[39m=\u001b[39;49moptions,\n\u001b[0;32m     49\u001b[0m     service\u001b[39m=\u001b[39;49mservice,\n\u001b[0;32m     50\u001b[0m     keep_alive\u001b[39m=\u001b[39;49mkeep_alive,\n\u001b[0;32m     51\u001b[0m )\n",
      "File \u001b[1;32mc:\\Users\\C00386\\Anaconda3\\envs\\automation_test\\Lib\\site-packages\\selenium\\webdriver\\chromium\\webdriver.py:50\u001b[0m, in \u001b[0;36mChromiumDriver.__init__\u001b[1;34m(self, browser_name, vendor_prefix, options, service, keep_alive)\u001b[0m\n\u001b[0;32m     47\u001b[0m \u001b[39mself\u001b[39m\u001b[39m.\u001b[39mservice \u001b[39m=\u001b[39m service\n\u001b[0;32m     49\u001b[0m \u001b[39mself\u001b[39m\u001b[39m.\u001b[39mservice\u001b[39m.\u001b[39mpath \u001b[39m=\u001b[39m DriverFinder\u001b[39m.\u001b[39mget_path(\u001b[39mself\u001b[39m\u001b[39m.\u001b[39mservice, options)\n\u001b[1;32m---> 50\u001b[0m \u001b[39mself\u001b[39;49m\u001b[39m.\u001b[39;49mservice\u001b[39m.\u001b[39;49mstart()\n\u001b[0;32m     52\u001b[0m executor \u001b[39m=\u001b[39m ChromiumRemoteConnection(\n\u001b[0;32m     53\u001b[0m     remote_server_addr\u001b[39m=\u001b[39m\u001b[39mself\u001b[39m\u001b[39m.\u001b[39mservice\u001b[39m.\u001b[39mservice_url,\n\u001b[0;32m     54\u001b[0m     browser_name\u001b[39m=\u001b[39mbrowser_name,\n\u001b[1;32m   (...)\u001b[0m\n\u001b[0;32m     57\u001b[0m     ignore_proxy\u001b[39m=\u001b[39moptions\u001b[39m.\u001b[39m_ignore_local_proxy,\n\u001b[0;32m     58\u001b[0m )\n\u001b[0;32m     60\u001b[0m \u001b[39mtry\u001b[39;00m:\n",
      "File \u001b[1;32mc:\\Users\\C00386\\Anaconda3\\envs\\automation_test\\Lib\\site-packages\\selenium\\webdriver\\common\\service.py:107\u001b[0m, in \u001b[0;36mService.start\u001b[1;34m(self)\u001b[0m\n\u001b[0;32m    104\u001b[0m     \u001b[39mbreak\u001b[39;00m\n\u001b[0;32m    106\u001b[0m count \u001b[39m+\u001b[39m\u001b[39m=\u001b[39m \u001b[39m1\u001b[39m\n\u001b[1;32m--> 107\u001b[0m sleep(\u001b[39m0.5\u001b[39;49m)\n\u001b[0;32m    108\u001b[0m \u001b[39mif\u001b[39;00m count \u001b[39m==\u001b[39m \u001b[39m60\u001b[39m:\n\u001b[0;32m    109\u001b[0m     \u001b[39mraise\u001b[39;00m WebDriverException(\u001b[39mf\u001b[39m\u001b[39m\"\u001b[39m\u001b[39mCan not connect to the Service \u001b[39m\u001b[39m{\u001b[39;00m\u001b[39mself\u001b[39m\u001b[39m.\u001b[39m_path\u001b[39m}\u001b[39;00m\u001b[39m\"\u001b[39m)\n",
      "\u001b[1;31mKeyboardInterrupt\u001b[0m: "
     ]
    }
   ],
   "source": [
    "\n",
    "while True:\n",
    "    to_be_respond = 0\n",
    "    current_time = datetime.now().strftime(\"%H:%M:%S\")\n",
    "    print(\"Current Time =\", current_time)\n",
    "\n",
    "    service = Service(executable_path='msedgedriver.exe')\n",
    "    driver = webdriver.Edge(service=service)\n",
    "    driver.get(\"https://imh.99b1b438eb1b4006.pw/kefu/pc_list\")\n",
    "\n",
    "    # Fill in the username and password fields\n",
    "    username_input = driver.find_element(By.CLASS_NAME, 'ivu-input-large')\n",
    "    password_input = driver.find_element(By.XPATH, '//input[@type=\"password\"]')\n",
    "\n",
    "    username_input.send_keys('xiaoyu')\n",
    "    password_input.send_keys('qweqwe')\n",
    "\n",
    "    # Click the login button\n",
    "    driver.find_element(By.XPATH, '//button[contains(@class, \"ivu-btn-primary\")]').click()\n",
    "    time.sleep(1)\n",
    "\n",
    "    chat = WebDriverWait(driver, 5).until(EC.presence_of_all_elements_located((By.CLASS_NAME, \"flex-box\")))\n",
    "    \n",
    "    last_avatar = chat[-1].find_element(By.TAG_NAME, \"img\")\n",
    "    last_avatar_src = last_avatar.get_attribute(\"src\")\n",
    "\n",
    "    # non-kefu avatar\n",
    "    if last_avatar_src != \"https://imh.99b1b438eb1b4006.pw/uploads/attach/2023/12/20231219/09bf22a84044f6af43db1551cf72c958.png\":\n",
    "        print(last_avatar_src)\n",
    "        to_be_respond += 1\n",
    "    driver.close()\n",
    "    print('Pending messages: ' ,to_be_respond)\n",
    "\n",
    "    if to_be_respond > 0:\n",
    "        winsound.PlaySound('alarm.wav', winsound.SND_ASYNC + winsound.SND_LOOP)\n",
    "        input('Enter any shits to stop this shit')\n",
    "        winsound.PlaySound(None, winsound.SND_PURGE)\n",
    "        sys.exit()\n",
    "    \n",
    "    print('Waiting 5mins ...')\n",
    "    time.sleep(10) # wait for 5 mins\n",
    "# driver.refresh()\n",
    "# time.sleep(5) # wait for 5 secs"
   ]
  },
  {
   "cell_type": "code",
   "execution_count": 9,
   "metadata": {},
   "outputs": [
    {
     "name": "stdout",
     "output_type": "stream",
     "text": [
      "Names: ['游客2024912571', '游客2024906509', '游客2024888941', '游客2024654142', '游客2024333233', '游客2024827198', '游客2024336989', '游客2024597537', '游客2024674355', '游客2024901477', '游客2024259280', '游客2024901626', '游客2024963234', '游客2024672443', '游客2023328521']\n"
     ]
    }
   ],
   "source": [
    "service = Service(executable_path='msedgedriver.exe')\n",
    "driver = webdriver.Edge(service=service)\n",
    "driver.get(\"https://imh.99b1b438eb1b4006.pw/kefu/pc_list\")\n",
    "\n",
    "# Fill in the username and password fields\n",
    "username_input = driver.find_element(By.CLASS_NAME, 'ivu-input-large')\n",
    "password_input = driver.find_element(By.XPATH, '//input[@type=\"password\"]')\n",
    "\n",
    "username_input.send_keys('xiaoyu')\n",
    "password_input.send_keys('qweqwe')\n",
    "\n",
    "# Click the login button\n",
    "driver.find_element(By.XPATH, '//button[contains(@class, \"ivu-btn-primary\")]').click()\n",
    "time.sleep(5)\n",
    "\n",
    "# Find all the <span> elements with class \"name line1\"\n",
    "name_elements = driver.find_elements(By.CSS_SELECTOR, \"span.name.line1\")\n",
    "\n",
    "# Initialize an empty list to store the values\n",
    "names = []\n",
    "\n",
    "# Iterate through each name element and extract the text\n",
    "for name_element in name_elements:\n",
    "    names.append(name_element.text)\n",
    "\n",
    "# Print the array of names\n",
    "print(\"Names:\", names)\n",
    "\n",
    "# Close the WebDriver\n",
    "driver.quit()"
   ]
  },
  {
   "cell_type": "code",
   "execution_count": 20,
   "metadata": {},
   "outputs": [],
   "source": [
    "import json\n",
    "with open('cust_names.json', 'w') as file:\n",
    "        json.dump(names[:10], file)"
   ]
  },
  {
   "cell_type": "code",
   "execution_count": 31,
   "metadata": {},
   "outputs": [
    {
     "name": "stdout",
     "output_type": "stream",
     "text": [
      "False\n",
      "False\n"
     ]
    }
   ],
   "source": [
    "def compare_lists(list1, list2):\n",
    "    return len(list1) == len(list2) and all(x == y for x, y in zip(list1, list2))\n",
    "\n",
    "def is_last_chat_item_right_box(driver):\n",
    "    main_div = driver.find_element(By.ID, \"chat_scroll\")\n",
    "    chat_items = main_div.find_elements(By.CSS_SELECTOR, \"div.chat-item.right-box\")\n",
    "    \n",
    "    # Check if the last direct child of main_div has class 'chat-item right-box'\n",
    "    last_child = main_div.find_elements(By.XPATH, \"./*\")[-1]\n",
    "    if last_child in chat_items:\n",
    "        return True\n",
    "    else:\n",
    "        return False\n",
    "\n",
    "service = Service(executable_path='msedgedriver.exe')\n",
    "driver = webdriver.Edge(service=service)\n",
    "driver.get(\"https://imh.99b1b438eb1b4006.pw/kefu/pc_list\")\n",
    "\n",
    "# Fill in the username and password fields\n",
    "username_input = driver.find_element(By.CLASS_NAME, 'ivu-input-large')\n",
    "password_input = driver.find_element(By.XPATH, '//input[@type=\"password\"]')\n",
    "\n",
    "username_input.send_keys('xiaoyu')\n",
    "password_input.send_keys('qweqwe')\n",
    "\n",
    "# Click the login button\n",
    "driver.find_element(By.XPATH, '//button[contains(@class, \"ivu-btn-primary\")]').click()\n",
    "time.sleep(5)\n",
    "\n",
    "# Find all the <span> elements with class \"name line1\"\n",
    "name_elements = driver.find_elements(By.CSS_SELECTOR, \"span.name.line1\")\n",
    "\n",
    "names = [name_element.text for name_element in name_elements][:10]\n",
    "\n",
    "with open('cust_names.json', 'r') as file:\n",
    "    last_names = json.load(file)\n",
    "\n",
    "\n",
    "isSameList = compare_lists(names, last_names)\n",
    "\n",
    "with open('cust_names.json', 'w') as file:\n",
    "    json.dump(names[:10], file)\n",
    "\n",
    "print(isSameList)\n",
    "\n",
    "print(is_last_chat_item_right_box(driver=driver))"
   ]
  },
  {
   "cell_type": "code",
   "execution_count": null,
   "metadata": {},
   "outputs": [],
   "source": []
  }
 ],
 "metadata": {
  "kernelspec": {
   "display_name": "base",
   "language": "python",
   "name": "python3"
  },
  "language_info": {
   "codemirror_mode": {
    "name": "ipython",
    "version": 3
   },
   "file_extension": ".py",
   "mimetype": "text/x-python",
   "name": "python",
   "nbconvert_exporter": "python",
   "pygments_lexer": "ipython3",
   "version": "3.12.1"
  },
  "orig_nbformat": 4
 },
 "nbformat": 4,
 "nbformat_minor": 2
}
