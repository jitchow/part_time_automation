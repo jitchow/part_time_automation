{
 "cells": [
  {
   "cell_type": "code",
   "execution_count": 7,
   "metadata": {},
   "outputs": [],
   "source": [
    "from selenium import webdriver\n",
    "from selenium.webdriver.common.by import By\n",
    "from selenium.webdriver.common.keys import Keys\n",
    "from selenium.webdriver.chrome.service import Service\n",
    "from selenium.webdriver.support.ui import WebDriverWait\n",
    "from selenium.webdriver.support import expected_conditions as EC\n",
    "import requests\n",
    "import time\n",
    "\n",
    "def get_final_url(initial_url):\n",
    "    try:\n",
    "        response = requests.head(initial_url, allow_redirects=True)\n",
    "        final_url = response.url\n",
    "        return final_url\n",
    "    except requests.RequestException as e:\n",
    "        print(f\"Error: {e}\")\n",
    "        return None\n",
    "\n",
    "# Function to take a screenshot with interaction, controlled scrolling, and full-screen capture\n",
    "def take_screenshot(url):\n",
    "    caption = \"\"\n",
    "    itdog_url = \"https://www.itdog.cn/http/\"\n",
    "    service = Service(executable_path='msedgedriver.exe')\n",
    "    driver = webdriver.Edge(service=service)\n",
    "    driver.get(itdog_url)\n",
    "\n",
    "    # Find the input element and submit button\n",
    "    input_element = driver.find_element(By.ID, 'host')\n",
    "    submit_button = driver.find_element(By.XPATH, '//button[@onclick=\"check_form(\\'fast\\')\"]')\n",
    "    \n",
    "    final_url = get_final_url(url)\n",
    "    # Add text to the input element\n",
    "    input_element.send_keys(final_url)  # Replace 'example.com' with the desired text\n",
    "\n",
    "    # Click the submit button\n",
    "    submit_button.click()\n",
    "    time.sleep(10)\n",
    "\n",
    "    china_mobile_span = WebDriverWait(driver, 10).until(\n",
    "        EC.presence_of_element_located((By.XPATH, '//span[@class=\"custom-control-label2\" and text()=\" 中国移动\"]'))\n",
    "    )\n",
    "    # Click the \"中国移动\" span element\n",
    "    china_mobile_span.click()\n",
    "    time.sleep(5)  # Add a delay if needed\n",
    "\n",
    "    # Find the \"time_out\" span element\n",
    "    time_out_span = driver.find_element(By.XPATH, '//span[@class=\"time_out badge badge-danger small\"]')\n",
    "    # Get the value of the \"time_out\" span and convert it to an integer\n",
    "    time_out_value = int(time_out_span.text)\n",
    "\n",
    "    # Check if the value is more or less than 10\n",
    "    if time_out_value < 10:\n",
    "        caption = f\"{final_url} 打卡 IP正常运行\"\n",
    "    elif time_out_value >= 10:\n",
    "        caption = f\"{final_url} 打卡  IP运行出现 {time_out_value}个错误。\"\n",
    "\n",
    "    # Scroll down a specific amount (you can adjust the value as needed)\n",
    "    driver.execute_script(f\"window.scrollBy(0, 580);\")\n",
    "    time.sleep(1)  # Add a delay for scrolling to complete\n",
    "\n",
    "    # Make the page full screen\n",
    "    driver.maximize_window()\n",
    "    time.sleep(2)  # Add a delay for maximizing the window\n",
    "\n",
    "    # Take a screenshot\n",
    "    driver.save_screenshot('screenshot.png')\n",
    "    driver.quit()\n",
    "\n",
    "    return caption\n"
   ]
  },
  {
   "cell_type": "markdown",
   "metadata": {},
   "source": [
    "SEND TELEGRAM"
   ]
  },
  {
   "cell_type": "code",
   "execution_count": 10,
   "metadata": {},
   "outputs": [],
   "source": [
    "from telethon import TelegramClient\n",
    "\n",
    "initial_url = \"https://www.ina16.com/\"\n",
    "\n",
    "# Use your own values from my.telegram.org\n",
    "api_id = 24923597\n",
    "api_hash = \"7a04f08385f68ff36841b0c65b83be86\"\n",
    "\n",
    "client = TelegramClient('session', api_id, api_hash)\n",
    "\n",
    "async with client:\n",
    "    caption = take_screenshot(initial_url)\n",
    "    await client.send_file(-4038638534, 'screenshot.png', caption=caption)\n",
    "\n",
    "    if \"错误\" in caption:\n",
    "        await client.send_message(-4038638534, \"@Huazai883\")\n"
   ]
  },
  {
   "cell_type": "code",
   "execution_count": 12,
   "metadata": {},
   "outputs": [
    {
     "name": "stdout",
     "output_type": "stream",
     "text": [
      "早上好-中国 has ID -4038638534\n",
      "Telegram has ID 777000\n",
      "禁漫-客服 has ID -4041523708\n",
      "禁漫-日报群 has ID -4078189838\n",
      "魔FUN耶烨夜 has ID -1001795233173\n",
      "小团队 👀 has ID -4043714677\n",
      "杨杨 has ID 6002025329\n",
      "Jessy Chow 🫐💗 has ID 2022901304\n",
      "Spacebar Coffee has ID -1001310751272\n",
      "华仔 has ID 453796473\n",
      "晓暖 has ID 6690763666\n",
      "Unicorn 芭比 has ID 5733326253\n",
      "10016 - 果汁 ins-mh has ID -1001963005464\n",
      "外星人 - ins-mh has ID -1002136251367\n",
      "翔 西 has ID 6290011696\n",
      "IPS USM has ID -1001237272996\n",
      "Hui Kee 🌸 has ID 891480233\n",
      " has ID 6686453201\n",
      "Ho Yan has ID 6547519904\n",
      " has ID 6412968371\n",
      "Chloe Ho🥞 has ID 667986232\n",
      "Mao has ID 5208895559\n",
      " has ID 6059868502\n",
      "Joshua Sim has ID 6288226118\n",
      "Shin Yin has ID 563544028\n",
      "Aiman has ID 5939222503\n",
      "Changzhi has ID 5981251277\n",
      " has ID 5922234850\n",
      "Angel Liew🖤 has ID 5835076239\n",
      "Huee Li has ID 5956115668\n",
      "Cassie 周则含 USM has ID 5879371676\n",
      "Bincenzo has ID 1268386842\n",
      "Any Weoy ♥️ has ID 1567526723\n",
      "Lee Siew Yan has ID 1752187862\n",
      "Flo 张瀚文 USM has ID 1111533620\n"
     ]
    }
   ],
   "source": [
    "client = TelegramClient('session', api_id, api_hash)\n",
    "\n",
    "async with client:\n",
    "    async for dialog in client.iter_dialogs():\n",
    "        print(dialog.name, 'has ID', dialog.id)"
   ]
  },
  {
   "cell_type": "markdown",
   "metadata": {},
   "source": [
    "SCHEDULER"
   ]
  },
  {
   "cell_type": "code",
   "execution_count": 8,
   "metadata": {},
   "outputs": [],
   "source": [
    "from telethon import TelegramClient\n",
    "\n",
    "# Use your own values from my.telegram.org\n",
    "api_id = 24923597\n",
    "api_hash = \"7a04f08385f68ff36841b0c65b83be86\"\n",
    "\n",
    "client = TelegramClient('session', api_id, api_hash)\n",
    "\n",
    "async def send_telegram(msg):\n",
    "    async with client:\n",
    "        await client.send_message(-4038638534, msg)"
   ]
  },
  {
   "cell_type": "code",
   "execution_count": 3,
   "metadata": {},
   "outputs": [
    {
     "ename": "RuntimeError",
     "evalue": "Cannot close a running event loop",
     "output_type": "error",
     "traceback": [
      "\u001b[1;31m---------------------------------------------------------------------------\u001b[0m",
      "\u001b[1;31mRuntimeError\u001b[0m                              Traceback (most recent call last)",
      "\u001b[1;32mc:\\Users\\C00386\\Desktop\\JC\\Personal\\part_time_automation\\automate.ipynb Cell 7\u001b[0m line \u001b[0;36m2\n\u001b[0;32m     <a href='vscode-notebook-cell:/c%3A/Users/C00386/Desktop/JC/Personal/part_time_automation/automate.ipynb#X34sZmlsZQ%3D%3D?line=19'>20</a>\u001b[0m \u001b[39mtry\u001b[39;00m:\n\u001b[1;32m---> <a href='vscode-notebook-cell:/c%3A/Users/C00386/Desktop/JC/Personal/part_time_automation/automate.ipynb#X34sZmlsZQ%3D%3D?line=20'>21</a>\u001b[0m     loop\u001b[39m.\u001b[39;49mrun_until_complete(main())\n\u001b[0;32m     <a href='vscode-notebook-cell:/c%3A/Users/C00386/Desktop/JC/Personal/part_time_automation/automate.ipynb#X34sZmlsZQ%3D%3D?line=21'>22</a>\u001b[0m \u001b[39mfinally\u001b[39;00m:\n",
      "File \u001b[1;32mc:\\Users\\C00386\\Anaconda3\\envs\\automation_test\\Lib\\asyncio\\base_events.py:660\u001b[0m, in \u001b[0;36mBaseEventLoop.run_until_complete\u001b[1;34m(self, future)\u001b[0m\n\u001b[0;32m    659\u001b[0m \u001b[39mself\u001b[39m\u001b[39m.\u001b[39m_check_closed()\n\u001b[1;32m--> 660\u001b[0m \u001b[39mself\u001b[39;49m\u001b[39m.\u001b[39;49m_check_running()\n\u001b[0;32m    662\u001b[0m new_task \u001b[39m=\u001b[39m \u001b[39mnot\u001b[39;00m futures\u001b[39m.\u001b[39misfuture(future)\n",
      "File \u001b[1;32mc:\\Users\\C00386\\Anaconda3\\envs\\automation_test\\Lib\\asyncio\\base_events.py:619\u001b[0m, in \u001b[0;36mBaseEventLoop._check_running\u001b[1;34m(self)\u001b[0m\n\u001b[0;32m    618\u001b[0m \u001b[39mif\u001b[39;00m \u001b[39mself\u001b[39m\u001b[39m.\u001b[39mis_running():\n\u001b[1;32m--> 619\u001b[0m     \u001b[39mraise\u001b[39;00m \u001b[39mRuntimeError\u001b[39;00m(\u001b[39m'\u001b[39m\u001b[39mThis event loop is already running\u001b[39m\u001b[39m'\u001b[39m)\n\u001b[0;32m    620\u001b[0m \u001b[39mif\u001b[39;00m events\u001b[39m.\u001b[39m_get_running_loop() \u001b[39mis\u001b[39;00m \u001b[39mnot\u001b[39;00m \u001b[39mNone\u001b[39;00m:\n",
      "\u001b[1;31mRuntimeError\u001b[0m: This event loop is already running",
      "\nDuring handling of the above exception, another exception occurred:\n",
      "\u001b[1;31mRuntimeError\u001b[0m                              Traceback (most recent call last)",
      "\u001b[1;32mc:\\Users\\C00386\\Desktop\\JC\\Personal\\part_time_automation\\automate.ipynb Cell 7\u001b[0m line \u001b[0;36m2\n\u001b[0;32m     <a href='vscode-notebook-cell:/c%3A/Users/C00386/Desktop/JC/Personal/part_time_automation/automate.ipynb#X34sZmlsZQ%3D%3D?line=20'>21</a>\u001b[0m     loop\u001b[39m.\u001b[39mrun_until_complete(main())\n\u001b[0;32m     <a href='vscode-notebook-cell:/c%3A/Users/C00386/Desktop/JC/Personal/part_time_automation/automate.ipynb#X34sZmlsZQ%3D%3D?line=21'>22</a>\u001b[0m \u001b[39mfinally\u001b[39;00m:\n\u001b[1;32m---> <a href='vscode-notebook-cell:/c%3A/Users/C00386/Desktop/JC/Personal/part_time_automation/automate.ipynb#X34sZmlsZQ%3D%3D?line=22'>23</a>\u001b[0m     loop\u001b[39m.\u001b[39;49mclose()\n",
      "File \u001b[1;32mc:\\Users\\C00386\\Anaconda3\\envs\\automation_test\\Lib\\asyncio\\proactor_events.py:687\u001b[0m, in \u001b[0;36mBaseProactorEventLoop.close\u001b[1;34m(self)\u001b[0m\n\u001b[0;32m    685\u001b[0m \u001b[39mdef\u001b[39;00m \u001b[39mclose\u001b[39m(\u001b[39mself\u001b[39m):\n\u001b[0;32m    686\u001b[0m     \u001b[39mif\u001b[39;00m \u001b[39mself\u001b[39m\u001b[39m.\u001b[39mis_running():\n\u001b[1;32m--> 687\u001b[0m         \u001b[39mraise\u001b[39;00m \u001b[39mRuntimeError\u001b[39;00m(\u001b[39m\"\u001b[39m\u001b[39mCannot close a running event loop\u001b[39m\u001b[39m\"\u001b[39m)\n\u001b[0;32m    688\u001b[0m     \u001b[39mif\u001b[39;00m \u001b[39mself\u001b[39m\u001b[39m.\u001b[39mis_closed():\n\u001b[0;32m    689\u001b[0m         \u001b[39mreturn\u001b[39;00m\n",
      "\u001b[1;31mRuntimeError\u001b[0m: Cannot close a running event loop"
     ]
    },
    {
     "name": "stdout",
     "output_type": "stream",
     "text": [
      "Executing async function!\n",
      "Executing async function!\n",
      "Executing async function!\n",
      "Executing async function!\n",
      "Executing async function!\n",
      "Executing async function!\n",
      "Executing async function!\n"
     ]
    }
   ],
   "source": [
    "import schedule\n",
    "import time\n",
    "import threading\n",
    "import asyncio\n",
    " \n",
    "async def async_task():\n",
    "    print(\"Async task is running\")\n",
    "def run_scheduler():\n",
    "    while True:\n",
    "        schedule.run_pending()\n",
    "        time.sleep(1)\n",
    "async def main():\n",
    "    schedule.every(5).seconds.do(async_task)\n",
    "    scheduler_thread = threading.Thread(target=run_scheduler)\n",
    "    scheduler_thread.start()   \n",
    "    while True:\n",
    "        await asyncio.sleep(1)"
   ]
  },
  {
   "cell_type": "code",
   "execution_count": 21,
   "metadata": {},
   "outputs": [],
   "source": [
    "from datetime import datetime"
   ]
  },
  {
   "cell_type": "code",
   "execution_count": 26,
   "metadata": {},
   "outputs": [
    {
     "data": {
      "text/plain": [
       "'23:08:24'"
      ]
     },
     "execution_count": 26,
     "metadata": {},
     "output_type": "execute_result"
    }
   ],
   "source": [
    "datetime.now().strftime('%H:%M:%S')"
   ]
  }
 ],
 "metadata": {
  "kernelspec": {
   "display_name": "automation_test",
   "language": "python",
   "name": "python3"
  },
  "language_info": {
   "codemirror_mode": {
    "name": "ipython",
    "version": 3
   },
   "file_extension": ".py",
   "mimetype": "text/x-python",
   "name": "python",
   "nbconvert_exporter": "python",
   "pygments_lexer": "ipython3",
   "version": "3.12.1"
  }
 },
 "nbformat": 4,
 "nbformat_minor": 2
}
